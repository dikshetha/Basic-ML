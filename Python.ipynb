{
  "nbformat": 4,
  "nbformat_minor": 0,
  "metadata": {
    "colab": {
      "name": "Python.ipynb",
      "provenance": [],
      "authorship_tag": "ABX9TyNxoFG6DQwATGNRSOGY9fsH",
      "include_colab_link": true
    },
    "kernelspec": {
      "name": "python3",
      "display_name": "Python 3"
    },
    "language_info": {
      "name": "python"
    }
  },
  "cells": [
    {
      "cell_type": "markdown",
      "metadata": {
        "id": "view-in-github",
        "colab_type": "text"
      },
      "source": [
        "<a href=\"https://colab.research.google.com/github/dikshetha/Basic-ML/blob/main/Python.ipynb\" target=\"_parent\"><img src=\"https://colab.research.google.com/assets/colab-badge.svg\" alt=\"Open In Colab\"/></a>"
      ]
    },
    {
      "cell_type": "markdown",
      "metadata": {
        "id": "nqam9KNv5Wwz"
      },
      "source": [
        "Python program to interchange first and last elements in a list"
      ]
    },
    {
      "cell_type": "code",
      "metadata": {
        "colab": {
          "base_uri": "https://localhost:8080/"
        },
        "id": "VXfbV4mQ5Z9O",
        "outputId": "f808ad32-f035-48d2-b65f-399ba9bf69a1"
      },
      "source": [
        "# Python3 program to swap first\n",
        "# and last element of a list\n",
        "\n",
        "# Swap function\n",
        "def swapList(newList):\n",
        "\tsize = len(newList)\n",
        "\t\n",
        "\t# Swapping\n",
        "\ttemp = newList[0]\n",
        "\tnewList[0] = newList[size - 1]\n",
        "\tnewList[size - 1] = temp\n",
        "\t\n",
        "\treturn newList\n",
        "\t\n",
        "# Driver code\n",
        "newList = [12, 35, 9, 56, 24]\n",
        "\n",
        "print(swapList(newList))\n"
      ],
      "execution_count": 1,
      "outputs": [
        {
          "output_type": "stream",
          "name": "stdout",
          "text": [
            "[24, 35, 9, 56, 12]\n"
          ]
        }
      ]
    },
    {
      "cell_type": "markdown",
      "metadata": {
        "id": "QDU-n5ku5l01"
      },
      "source": [
        "Python Program for Reversal algorithm for array rotation"
      ]
    },
    {
      "cell_type": "code",
      "metadata": {
        "colab": {
          "base_uri": "https://localhost:8080/"
        },
        "id": "4-TgrU9a5nO3",
        "outputId": "e0189b71-e809-4f81-bebd-db193ba1e0b7"
      },
      "source": [
        "# Python program for reversal algorithm of array rotation\n",
        "\n",
        "# Function to reverse arr[] from index start to end\n",
        "def rverseArray(arr, start, end):\n",
        "\twhile (start < end):\n",
        "\t\ttemp = arr[start]\n",
        "\t\tarr[start] = arr[end]\n",
        "\t\tarr[end] = temp\n",
        "\t\tstart += 1\n",
        "\t\tend = end-1\n",
        "\n",
        "# Function to left rotate arr[] of size n by d\n",
        "def leftRotate(arr, d):\n",
        "\tn = len(arr)\n",
        "\trverseArray(arr, 0, d-1)\n",
        "\trverseArray(arr, d, n-1)\n",
        "\trverseArray(arr, 0, n-1)\n",
        "\n",
        "# Function to print an array\n",
        "def printArray(arr):\n",
        "\tfor i in range(0, len(arr)):\n",
        "\t\tprint (arr[i])\n",
        "\n",
        "# Driver function to test above functions\n",
        "arr = [1, 2, 3, 4, 5, 6, 7]\n",
        "leftRotate(arr, 2) # Rotate array by 2\n",
        "printArray(arr)\n",
        "\n",
        "# This code is contributed by Devesh Agrawal\n"
      ],
      "execution_count": 2,
      "outputs": [
        {
          "output_type": "stream",
          "name": "stdout",
          "text": [
            "3\n",
            "4\n",
            "5\n",
            "6\n",
            "7\n",
            "1\n",
            "2\n"
          ]
        }
      ]
    },
    {
      "cell_type": "markdown",
      "metadata": {
        "id": "AlB6PcRb5zpH"
      },
      "source": [
        "Python Program for cube sum of first n natural numbers"
      ]
    },
    {
      "cell_type": "code",
      "metadata": {
        "colab": {
          "base_uri": "https://localhost:8080/"
        },
        "id": "WhhgLXid50qE",
        "outputId": "8cb3a746-326d-44e0-d36c-f716ee5cfecf"
      },
      "source": [
        "# Simple Python program to find sum of series\n",
        "# with cubes of first n natural numbers\n",
        "\n",
        "# Returns the sum of series\n",
        "def sumOfSeries(n):\n",
        "\tsum = 0\n",
        "\tfor i in range(1, n+1):\n",
        "\t\tsum +=i*i*i\n",
        "\t\t\n",
        "\treturn sum\n",
        "\n",
        "\n",
        "# Driver Function\n",
        "n = 5\n",
        "print(sumOfSeries(n))\n",
        "\n",
        "# Code Contributed by Mohit Gupta_OMG <(0_o)>\n"
      ],
      "execution_count": 3,
      "outputs": [
        {
          "output_type": "stream",
          "name": "stdout",
          "text": [
            "225\n"
          ]
        }
      ]
    },
    {
      "cell_type": "markdown",
      "metadata": {
        "id": "zL8YYifq558U"
      },
      "source": [
        "Python program to multiply two matrices"
      ]
    },
    {
      "cell_type": "code",
      "metadata": {
        "colab": {
          "base_uri": "https://localhost:8080/"
        },
        "id": "s8jo94Zl6Byd",
        "outputId": "d92392b3-0ae3-493a-d7a6-e16dd5afb01d"
      },
      "source": [
        "# Program to multiply two matrices using nested loops\n",
        "\n",
        "# take a 3x3 matrix\n",
        "A = [[12, 7, 3],\n",
        "\t[4, 5, 6],\n",
        "\t[7, 8, 9]]\n",
        "\n",
        "# take a 3x4 matrix\n",
        "B = [[5, 8, 1, 2],\n",
        "\t[6, 7, 3, 0],\n",
        "\t[4, 5, 9, 1]]\n",
        "\t\n",
        "result = [[0, 0, 0, 0],\n",
        "\t\t[0, 0, 0, 0],\n",
        "\t\t[0, 0, 0, 0]]\n",
        "\n",
        "# iterating by row of A\n",
        "for i in range(len(A)):\n",
        "\n",
        "\t# iterating by column by B\n",
        "\tfor j in range(len(B[0])):\n",
        "\n",
        "\t\t# iterating by rows of B\n",
        "\t\tfor k in range(len(B)):\n",
        "\t\t\tresult[i][j] += A[i][k] * B[k][j]\n",
        "\n",
        "for r in result:\n",
        "\tprint(r)\n"
      ],
      "execution_count": 4,
      "outputs": [
        {
          "output_type": "stream",
          "name": "stdout",
          "text": [
            "[114, 160, 60, 27]\n",
            "[74, 97, 73, 14]\n",
            "[119, 157, 112, 23]\n"
          ]
        }
      ]
    },
    {
      "cell_type": "markdown",
      "metadata": {
        "id": "R3ogPV_66NJy"
      },
      "source": [
        "Check if email address valid or not in Python\n"
      ]
    },
    {
      "cell_type": "code",
      "metadata": {
        "colab": {
          "base_uri": "https://localhost:8080/"
        },
        "id": "jfJr4-hK6OnW",
        "outputId": "883eaadc-a97b-46a3-ff70-b11caac309a2"
      },
      "source": [
        "# Python program to validate an Email\n",
        "\n",
        "# import re module\n",
        "\n",
        "# re module provides support\n",
        "# for regular expressions\n",
        "import re\n",
        "\n",
        "# Make a regular expression\n",
        "# for validating an Email\n",
        "regex = r'\\b[A-Za-z0-9._%+-]+@[A-Za-z0-9.-]+\\.[A-Z|a-z]{2,}\\b'\n",
        "\n",
        "# Define a function for\n",
        "# for validating an Email\n",
        "\n",
        "\n",
        "def check(email):\n",
        "\n",
        "\t# pass the regular expression\n",
        "\t# and the string into the fullmatch() method\n",
        "\tif(re.fullmatch(regex, email)):\n",
        "\t\tprint(\"Valid Email\")\n",
        "\n",
        "\telse:\n",
        "\t\tprint(\"Invalid Email\")\n",
        "\n",
        "\n",
        "# Driver Code\n",
        "if __name__ == '__main__':\n",
        "\n",
        "\t# Enter the email\n",
        "\temail = \"ankitrai326@gmail.com\"\n",
        "\n",
        "\t# calling run function\n",
        "\tcheck(email)\n",
        "\n",
        "\temail = \"my.ownsite@our-earth.org\"\n",
        "\tcheck(email)\n",
        "\n",
        "\temail = \"ankitrai326.com\"\n",
        "\tcheck(email)\n"
      ],
      "execution_count": 5,
      "outputs": [
        {
          "output_type": "stream",
          "name": "stdout",
          "text": [
            "Valid Email\n",
            "Valid Email\n",
            "Invalid Email\n"
          ]
        }
      ]
    }
  ]
}