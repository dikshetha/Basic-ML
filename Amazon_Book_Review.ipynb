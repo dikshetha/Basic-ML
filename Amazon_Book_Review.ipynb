{
  "nbformat": 4,
  "nbformat_minor": 0,
  "metadata": {
    "colab": {
      "name": " Amazon Book Review.ipynb",
      "provenance": [],
      "collapsed_sections": [],
      "include_colab_link": true
    },
    "kernelspec": {
      "name": "python3",
      "display_name": "Python 3"
    }
  },
  "cells": [
    {
      "cell_type": "markdown",
      "metadata": {
        "id": "view-in-github",
        "colab_type": "text"
      },
      "source": [
        "<a href=\"https://colab.research.google.com/github/dikshetha/Basic-ML/blob/main/Amazon_Book_Review.ipynb\" target=\"_parent\"><img src=\"https://colab.research.google.com/assets/colab-badge.svg\" alt=\"Open In Colab\"/></a>"
      ]
    },
    {
      "cell_type": "markdown",
      "metadata": {
        "id": "cr-5z7EytThZ"
      },
      "source": [
        "## ***Overview:***\n",
        "\n",
        "With the rapid growth of data collection, more efficient systems are created based on the big data. Recommendation system is one of information filtering systems which could improve the quality of search results and provide items that are more relevant to the search item or are related to the search history of the user. Almost every major tech company has applied recommendation systems in some form or the other: YouTube uses it to decide which video to play next on autoplay; Spotify uses it to provide users \"Made For You\" daily mixes etc.\n",
        "\n",
        "In terms of this project, we try to learn from data and recommend best books to users, based on self & others behaviour."
      ]
    },
    {
      "cell_type": "markdown",
      "metadata": {
        "id": "Xyx8UM2Hv_kV"
      },
      "source": [
        "# Ingest"
      ]
    },
    {
      "cell_type": "markdown",
      "metadata": {
        "id": "NJ-ypmektj7-"
      },
      "source": [
        "This dataset contains book reviews from Amazon, with below columns:\n",
        "\n",
        "*  User ID\n",
        "*  Book ID\n",
        "*  Rating (1 to 5)\n",
        "*  Date they gave the ratings(timestamp unix)\n",
        "\n",
        "Because of the huge data size, the ratings_Books_sample.csv is the dataset sampled from the original dataset with 200K records.\n",
        "\n",
        "Data source: http://jmcauley.ucsd.edu/data/amazon/index.html"
      ]
    },
    {
      "cell_type": "code",
      "metadata": {
        "id": "ORw3YbyBtg9D"
      },
      "source": [
        "import pandas as pd\n",
        "import numpy as np\n",
        "import math\n",
        "import re\n",
        "import matplotlib.pyplot as plt\n",
        "import seaborn as sns"
      ],
      "execution_count": null,
      "outputs": []
    },
    {
      "cell_type": "code",
      "metadata": {
        "id": "5cvPzwSnu4ke",
        "colab": {
          "base_uri": "https://localhost:8080/",
          "height": 34
        },
        "outputId": "5e80f18d-2497-4472-b1e5-2827234e5eba"
      },
      "source": [
        "from google.colab import drive\n",
        "drive.mount('/content/gdrive', force_remount=True)"
      ],
      "execution_count": null,
      "outputs": [
        {
          "output_type": "stream",
          "text": [
            "Mounted at /content/gdrive\n"
          ],
          "name": "stdout"
        }
      ]
    },
    {
      "cell_type": "code",
      "metadata": {
        "id": "ReP7-vvZwkUV"
      },
      "source": [
        "!pip install -q scikit-surprise"
      ],
      "execution_count": null,
      "outputs": []
    },
    {
      "cell_type": "code",
      "metadata": {
        "id": "1dRGpkWPww1f"
      },
      "source": [
        "from surprise import SVD\n",
        "from surprise import Dataset\n",
        "from surprise.model_selection import cross_validate\n",
        "from surprise import Reader, evaluate"
      ],
      "execution_count": null,
      "outputs": []
    },
    {
      "cell_type": "code",
      "metadata": {
        "id": "eUpfMvkCwAaS"
      },
      "source": [
        "df = pd.read_csv(\"/content/gdrive/My Drive/MachineLearning/ratings_Books_sample.csv\")"
      ],
      "execution_count": null,
      "outputs": []
    },
    {
      "cell_type": "code",
      "metadata": {
        "id": "OtCTlMrow4mQ",
        "colab": {
          "base_uri": "https://localhost:8080/",
          "height": 204
        },
        "outputId": "6c97dea6-d049-4731-a253-4cac2e48eb7a"
      },
      "source": [
        "df.head()"
      ],
      "execution_count": null,
      "outputs": [
        {
          "output_type": "execute_result",
          "data": {
            "text/html": [
              "<div>\n",
              "<style scoped>\n",
              "    .dataframe tbody tr th:only-of-type {\n",
              "        vertical-align: middle;\n",
              "    }\n",
              "\n",
              "    .dataframe tbody tr th {\n",
              "        vertical-align: top;\n",
              "    }\n",
              "\n",
              "    .dataframe thead th {\n",
              "        text-align: right;\n",
              "    }\n",
              "</style>\n",
              "<table border=\"1\" class=\"dataframe\">\n",
              "  <thead>\n",
              "    <tr style=\"text-align: right;\">\n",
              "      <th></th>\n",
              "      <th>Unnamed: 0</th>\n",
              "      <th>user</th>\n",
              "      <th>item</th>\n",
              "      <th>rating</th>\n",
              "      <th>timestamp</th>\n",
              "    </tr>\n",
              "  </thead>\n",
              "  <tbody>\n",
              "    <tr>\n",
              "      <th>0</th>\n",
              "      <td>10994572</td>\n",
              "      <td>A000023026XVLM97BM7KY</td>\n",
              "      <td>0957544901</td>\n",
              "      <td>4.0</td>\n",
              "      <td>1397865600</td>\n",
              "    </tr>\n",
              "    <tr>\n",
              "      <th>1</th>\n",
              "      <td>9234850</td>\n",
              "      <td>A00003322NZ9C82Y46DFN</td>\n",
              "      <td>0786903945</td>\n",
              "      <td>5.0</td>\n",
              "      <td>1403740800</td>\n",
              "    </tr>\n",
              "    <tr>\n",
              "      <th>2</th>\n",
              "      <td>15461852</td>\n",
              "      <td>A0000440NYTE2D2YB089</td>\n",
              "      <td>1492111619</td>\n",
              "      <td>5.0</td>\n",
              "      <td>1380153600</td>\n",
              "    </tr>\n",
              "    <tr>\n",
              "      <th>3</th>\n",
              "      <td>9362165</td>\n",
              "      <td>A00005181SC9PSCD58LCG</td>\n",
              "      <td>0800720024</td>\n",
              "      <td>5.0</td>\n",
              "      <td>1400025600</td>\n",
              "    </tr>\n",
              "    <tr>\n",
              "      <th>4</th>\n",
              "      <td>8608310</td>\n",
              "      <td>A00005181SC9PSCD58LCG</td>\n",
              "      <td>076278038X</td>\n",
              "      <td>4.0</td>\n",
              "      <td>1389571200</td>\n",
              "    </tr>\n",
              "  </tbody>\n",
              "</table>\n",
              "</div>"
            ],
            "text/plain": [
              "   Unnamed: 0                   user        item  rating   timestamp\n",
              "0    10994572  A000023026XVLM97BM7KY  0957544901     4.0  1397865600\n",
              "1     9234850  A00003322NZ9C82Y46DFN  0786903945     5.0  1403740800\n",
              "2    15461852   A0000440NYTE2D2YB089  1492111619     5.0  1380153600\n",
              "3     9362165  A00005181SC9PSCD58LCG  0800720024     5.0  1400025600\n",
              "4     8608310  A00005181SC9PSCD58LCG  076278038X     4.0  1389571200"
            ]
          },
          "metadata": {
            "tags": []
          },
          "execution_count": 153
        }
      ]
    },
    {
      "cell_type": "code",
      "metadata": {
        "id": "HVpu9iK96pop",
        "colab": {
          "base_uri": "https://localhost:8080/",
          "height": 187
        },
        "outputId": "15a6ed2c-94d1-481f-dbd6-17f2dadb1d4b"
      },
      "source": [
        "df.info()"
      ],
      "execution_count": null,
      "outputs": [
        {
          "output_type": "stream",
          "text": [
            "<class 'pandas.core.frame.DataFrame'>\n",
            "RangeIndex: 200000 entries, 0 to 199999\n",
            "Data columns (total 5 columns):\n",
            "Unnamed: 0    200000 non-null int64\n",
            "user          200000 non-null object\n",
            "item          200000 non-null object\n",
            "rating        200000 non-null float64\n",
            "timestamp     200000 non-null int64\n",
            "dtypes: float64(1), int64(2), object(2)\n",
            "memory usage: 7.6+ MB\n"
          ],
          "name": "stdout"
        }
      ]
    },
    {
      "cell_type": "code",
      "metadata": {
        "id": "0GXW1wKcyA5t"
      },
      "source": [
        "df.drop(df.columns[0],axis=1,inplace=True)"
      ],
      "execution_count": null,
      "outputs": []
    },
    {
      "cell_type": "markdown",
      "metadata": {
        "id": "qtWPy-OBZhI4"
      },
      "source": [
        "# EDA"
      ]
    },
    {
      "cell_type": "code",
      "metadata": {
        "id": "W4dS-QOG00Yw",
        "colab": {
          "base_uri": "https://localhost:8080/",
          "height": 235
        },
        "outputId": "a0ea25ec-5dca-4154-a8e8-45942c855a65"
      },
      "source": [
        "p = df.groupby('rating')['rating'].agg(['count'])\n",
        "p"
      ],
      "execution_count": null,
      "outputs": [
        {
          "output_type": "execute_result",
          "data": {
            "text/html": [
              "<div>\n",
              "<style scoped>\n",
              "    .dataframe tbody tr th:only-of-type {\n",
              "        vertical-align: middle;\n",
              "    }\n",
              "\n",
              "    .dataframe tbody tr th {\n",
              "        vertical-align: top;\n",
              "    }\n",
              "\n",
              "    .dataframe thead th {\n",
              "        text-align: right;\n",
              "    }\n",
              "</style>\n",
              "<table border=\"1\" class=\"dataframe\">\n",
              "  <thead>\n",
              "    <tr style=\"text-align: right;\">\n",
              "      <th></th>\n",
              "      <th>count</th>\n",
              "    </tr>\n",
              "    <tr>\n",
              "      <th>rating</th>\n",
              "      <th></th>\n",
              "    </tr>\n",
              "  </thead>\n",
              "  <tbody>\n",
              "    <tr>\n",
              "      <th>1.0</th>\n",
              "      <td>9427</td>\n",
              "    </tr>\n",
              "    <tr>\n",
              "      <th>2.0</th>\n",
              "      <td>8322</td>\n",
              "    </tr>\n",
              "    <tr>\n",
              "      <th>3.0</th>\n",
              "      <td>16796</td>\n",
              "    </tr>\n",
              "    <tr>\n",
              "      <th>4.0</th>\n",
              "      <td>41676</td>\n",
              "    </tr>\n",
              "    <tr>\n",
              "      <th>5.0</th>\n",
              "      <td>123779</td>\n",
              "    </tr>\n",
              "  </tbody>\n",
              "</table>\n",
              "</div>"
            ],
            "text/plain": [
              "         count\n",
              "rating        \n",
              "1.0       9427\n",
              "2.0       8322\n",
              "3.0      16796\n",
              "4.0      41676\n",
              "5.0     123779"
            ]
          },
          "metadata": {
            "tags": []
          },
          "execution_count": 146
        }
      ]
    },
    {
      "cell_type": "code",
      "metadata": {
        "id": "BHhgkXLO4DUq"
      },
      "source": [
        "item_count = df[\"item\"].nunique()\n",
        "user_count = df['user'].nunique()\n",
        "rating_count = df[\"rating\"].count()"
      ],
      "execution_count": null,
      "outputs": []
    },
    {
      "cell_type": "code",
      "metadata": {
        "id": "MWtcCI_N8g9I",
        "colab": {
          "base_uri": "https://localhost:8080/",
          "height": 612
        },
        "outputId": "8e32d569-f3bb-4efe-f07b-a482e2436f7f"
      },
      "source": [
        "ax = p.plot(kind = 'barh', legend = False, figsize = (15,10))\n",
        "plt.title('Total pool: {:,} Books, {:,} users, {:,} ratings given'.format(item_count, user_count, rating_count), fontsize=20)\n",
        "plt.axis('off')\n",
        "          \n",
        "for i in range(1,6):\n",
        "    ax.text(p.iloc[i-1][0]/4, i-1, 'Rating {}: {:.0f}%'.format(i, p.iloc[i-1][0]*100 / p.sum()[0]), color = 'black', weight = 'bold')"
      ],
      "execution_count": null,
      "outputs": [
        {
          "output_type": "display_data",
          "data": {
            "image/png": "[encoded data removed]",
            "text/plain": [
              "<Figure size 1080x720 with 1 Axes>"
            ]
          },
          "metadata": {
            "tags": []
          }
        }
      ]
    },
    {
      "cell_type": "markdown",
      "metadata": {
        "id": "s-1vLLtivDoe"
      },
      "source": [
        "The above bar chart gives us a first look on how the data spread. We can see that the rating tends to be relatively positive (83% of the ratings > = 4), which may be due to the fact that unhappy readers tend to just leave instead of making efforts to rate. As a result, it indicates that low rating books are generally very bad."
      ]
    },
    {
      "cell_type": "markdown",
      "metadata": {
        "id": "GG0PhT8AZomW"
      },
      "source": [
        "# Model"
      ]
    },
    {
      "cell_type": "markdown",
      "metadata": {
        "id": "KymSX-LFxSBY"
      },
      "source": [
        "### Data slicing"
      ]
    },
    {
      "cell_type": "markdown",
      "metadata": {
        "id": "z4aVUk79xrvz"
      },
      "source": [
        "To improve the data quality, the following two steps are done\n",
        "\n",
        "*   Remove books with too less reviews (they are relatively not popular)\n",
        "*   Remove users who give too less reviews (they are relatively less active)\n",
        "\n"
      ]
    },
    {
      "cell_type": "code",
      "metadata": {
        "id": "Y-o0DsEZTAkf",
        "colab": {
          "base_uri": "https://localhost:8080/",
          "height": 51
        },
        "outputId": "43ec457e-f9a9-47d7-bb74-4c16114ea965"
      },
      "source": [
        "f = ['count','mean']\n",
        "\n",
        "df_book_summary = df.groupby('item')['rating'].agg(f)\n",
        "book_benchmark = round(df_book_summary['count'].quantile(0.8),0)\n",
        "drop_book_list = df_book_summary[df_book_summary['count'] < book_benchmark].index\n",
        "\n",
        "print('Book minimum times of review: {}'.format(book_benchmark))\n",
        "\n",
        "df_user_summary = df.groupby('user')['rating'].agg(f)\n",
        "user_benchmark = round(df_user_summary['count'].quantile(0.8),0)\n",
        "drop_user_list = df_user_summary[df_user_summary['count'] < user_benchmark].index\n",
        "\n",
        "print('User minimum times of review: {}'.format(user_benchmark))"
      ],
      "execution_count": null,
      "outputs": [
        {
          "output_type": "stream",
          "text": [
            "Book minimum times of review: 1.0\n",
            "User minimum times of review: 3.0\n"
          ],
          "name": "stdout"
        }
      ]
    },
    {
      "cell_type": "markdown",
      "metadata": {
        "id": "ZWX_BN9GyqE7"
      },
      "source": [
        "After trimming down the data, the difference in data size is as follows."
      ]
    },
    {
      "cell_type": "code",
      "metadata": {
        "id": "_SLKczEiUP8O",
        "colab": {
          "base_uri": "https://localhost:8080/",
          "height": 204
        },
        "outputId": "b7234ece-e8cf-4648-e8a2-783fca5c4613"
      },
      "source": [
        "print('Original Shape: {}'.format(df.shape))\n",
        "df = df[~df['item'].isin(drop_book_list)]\n",
        "df = df[~df['user'].isin(drop_user_list)]\n",
        "print('After Trim Shape: {}'.format(df.shape))\n",
        "print('-Data Examples-')\n",
        "print(df.iloc[::20000, :])"
      ],
      "execution_count": null,
      "outputs": [
        {
          "output_type": "stream",
          "text": [
            "Original Shape: (200000, 4)\n",
            "After Trim Shape: (130075, 4)\n",
            "-Data Examples-\n",
            "                         user        item  rating   timestamp\n",
            "3       A00005181SC9PSCD58LCG  0800720024     5.0  1400025600\n",
            "32740          A102ZFBCV9QVOA  0030648130     5.0  1389571200\n",
            "63238           A109O4KY7L1FZ  1455546925     5.0  1378598400\n",
            "93508          A10GDA5I0MM0AI  B00BWBKG3C     5.0  1365984000\n",
            "124654         A10NMCFY76RY4F  1933926252     2.0  1367107200\n",
            "155442          A10UK4UFQ6XV3  0062336592     5.0  1397952000\n",
            "184937         A110OR35N5WNWF  1612356087     3.0  1378425600\n"
          ],
          "name": "stdout"
        }
      ]
    },
    {
      "cell_type": "markdown",
      "metadata": {
        "id": "nnJ1d6Cey5HO"
      },
      "source": [
        "### Recommendation with Collaborative Filtering\n",
        "\n",
        "This project utilizes collaborative filtering, a system matching persons with similar interests and providing recommendations based on this matching. Collaborative filters do not require item metadata like its content-based counterparts. \n",
        "\n",
        "Surprise library is utilized here to implement SVD."
      ]
    },
    {
      "cell_type": "code",
      "metadata": {
        "id": "hjbHcXId_cVp",
        "colab": {
          "base_uri": "https://localhost:8080/",
          "height": 564
        },
        "outputId": "91113f76-74d9-4355-b8c8-e0ca461d8dc3"
      },
      "source": [
        "reader = Reader()\n",
        "\n",
        "data = Dataset.load_from_df(df[['user', 'item', 'rating']], reader)\n",
        "data.split(n_folds=3)\n",
        "\n",
        "svd = SVD()\n",
        "evaluate(svd, data, measures=['RMSE', 'MAE'])"
      ],
      "execution_count": null,
      "outputs": [
        {
          "output_type": "stream",
          "text": [
            "/usr/local/lib/python3.6/dist-packages/surprise/evaluate.py:66: UserWarning: The evaluate() method is deprecated. Please use model_selection.cross_validate() instead.\n",
            "  'model_selection.cross_validate() instead.', UserWarning)\n",
            "/usr/local/lib/python3.6/dist-packages/surprise/dataset.py:193: UserWarning: Using data.split() or using load_from_folds() without using a CV iterator is now deprecated. \n",
            "  UserWarning)\n"
          ],
          "name": "stderr"
        },
        {
          "output_type": "stream",
          "text": [
            "Evaluating RMSE, MAE of algorithm SVD.\n",
            "\n",
            "------------\n",
            "Fold 1\n",
            "RMSE: 0.9913\n",
            "MAE:  0.7506\n",
            "------------\n",
            "Fold 2\n",
            "RMSE: 0.9944\n",
            "MAE:  0.7498\n",
            "------------\n",
            "Fold 3\n",
            "RMSE: 0.9978\n",
            "MAE:  0.7530\n",
            "------------\n",
            "------------\n",
            "Mean RMSE: 0.9945\n",
            "Mean MAE : 0.7511\n",
            "------------\n",
            "------------\n"
          ],
          "name": "stdout"
        },
        {
          "output_type": "execute_result",
          "data": {
            "text/plain": [
              "CaseInsensitiveDefaultDict(list,\n",
              "                           {'mae': [0.7505826698862714,\n",
              "                             0.7497814022119256,\n",
              "                             0.7529664730794076],\n",
              "                            'rmse': [0.9913094496844685,\n",
              "                             0.9943952618896811,\n",
              "                             0.9978152075679302]})"
            ]
          },
          "metadata": {
            "tags": []
          },
          "execution_count": 156
        }
      ]
    },
    {
      "cell_type": "markdown",
      "metadata": {
        "id": "3LIWF7Rt0fwy"
      },
      "source": [
        "We get a mean Root Mean Square Error of 0.99 approx.\n",
        "\n",
        "Let us now train on our dataset and arrive at predictions."
      ]
    },
    {
      "cell_type": "code",
      "metadata": {
        "id": "W6WC2bLJC9Ld",
        "colab": {
          "base_uri": "https://localhost:8080/",
          "height": 34
        },
        "outputId": "06976c5f-f2ea-4039-8d1e-4bc53683b712"
      },
      "source": [
        "trainset = data.build_full_trainset()\n",
        "svd.fit(trainset)"
      ],
      "execution_count": null,
      "outputs": [
        {
          "output_type": "execute_result",
          "data": {
            "text/plain": [
              "<surprise.prediction_algorithms.matrix_factorization.SVD at 0x7fdb965239e8>"
            ]
          },
          "metadata": {
            "tags": []
          },
          "execution_count": 158
        }
      ]
    },
    {
      "cell_type": "markdown",
      "metadata": {
        "id": "3GWW4sX-zDBd"
      },
      "source": [
        "Below is what user A00006923FEAFJLE7GHEL liked in the past:"
      ]
    },
    {
      "cell_type": "code",
      "metadata": {
        "id": "SoFw-jS4COI2",
        "colab": {
          "base_uri": "https://localhost:8080/",
          "height": 142
        },
        "outputId": "7afbe3b0-8032-43f1-8578-daa84d982d65"
      },
      "source": [
        "df[(df['user'] == \"A00006923FEAFJLE7GHEL\") & (df[\"rating\"] == 5)]"
      ],
      "execution_count": null,
      "outputs": [
        {
          "output_type": "execute_result",
          "data": {
            "text/html": [
              "<div>\n",
              "<style scoped>\n",
              "    .dataframe tbody tr th:only-of-type {\n",
              "        vertical-align: middle;\n",
              "    }\n",
              "\n",
              "    .dataframe tbody tr th {\n",
              "        vertical-align: top;\n",
              "    }\n",
              "\n",
              "    .dataframe thead th {\n",
              "        text-align: right;\n",
              "    }\n",
              "</style>\n",
              "<table border=\"1\" class=\"dataframe\">\n",
              "  <thead>\n",
              "    <tr style=\"text-align: right;\">\n",
              "      <th></th>\n",
              "      <th>user</th>\n",
              "      <th>item</th>\n",
              "      <th>rating</th>\n",
              "      <th>timestamp</th>\n",
              "    </tr>\n",
              "  </thead>\n",
              "  <tbody>\n",
              "    <tr>\n",
              "      <th>7</th>\n",
              "      <td>A00006923FEAFJLE7GHEL</td>\n",
              "      <td>1451661215</td>\n",
              "      <td>5.0</td>\n",
              "      <td>1353110400</td>\n",
              "    </tr>\n",
              "    <tr>\n",
              "      <th>8</th>\n",
              "      <td>A00006923FEAFJLE7GHEL</td>\n",
              "      <td>0345803493</td>\n",
              "      <td>5.0</td>\n",
              "      <td>1353110400</td>\n",
              "    </tr>\n",
              "    <tr>\n",
              "      <th>9</th>\n",
              "      <td>A00006923FEAFJLE7GHEL</td>\n",
              "      <td>0345803507</td>\n",
              "      <td>5.0</td>\n",
              "      <td>1353110400</td>\n",
              "    </tr>\n",
              "  </tbody>\n",
              "</table>\n",
              "</div>"
            ],
            "text/plain": [
              "                    user        item  rating   timestamp\n",
              "7  A00006923FEAFJLE7GHEL  1451661215     5.0  1353110400\n",
              "8  A00006923FEAFJLE7GHEL  0345803493     5.0  1353110400\n",
              "9  A00006923FEAFJLE7GHEL  0345803507     5.0  1353110400"
            ]
          },
          "metadata": {
            "tags": []
          },
          "execution_count": 163
        }
      ]
    },
    {
      "cell_type": "markdown",
      "metadata": {
        "id": "QCFdGoxW1N1x"
      },
      "source": [
        "We could use the code below to estimate user A00006923FEAFJLE7GHEL's rating on a specific book in the dataset."
      ]
    },
    {
      "cell_type": "code",
      "metadata": {
        "id": "wD1Gf9cBYLyN",
        "colab": {
          "base_uri": "https://localhost:8080/",
          "height": 34
        },
        "outputId": "933ffb5b-e3d3-459e-fc95-3599172d4f78"
      },
      "source": [
        "svd.predict(\"A00006923FEAFJLE7GHEL\", 1451661215).est"
      ],
      "execution_count": null,
      "outputs": [
        {
          "output_type": "execute_result",
          "data": {
            "text/plain": [
              "4.445117255085559"
            ]
          },
          "metadata": {
            "tags": []
          },
          "execution_count": 159
        }
      ]
    },
    {
      "cell_type": "code",
      "metadata": {
        "id": "obk4-Zs-gGtt",
        "colab": {
          "base_uri": "https://localhost:8080/",
          "height": 204
        },
        "outputId": "2ef20d0a-e39a-4d01-a225-3e33b5a0aba6"
      },
      "source": [
        "#unique book id in the dataset\n",
        "df_title = pd.Series(df[\"item\"]).unique()\n",
        "df_title = pd.DataFrame(df_title, columns=['Books']) \n",
        "df_title.head()"
      ],
      "execution_count": null,
      "outputs": [
        {
          "output_type": "execute_result",
          "data": {
            "text/html": [
              "<div>\n",
              "<style scoped>\n",
              "    .dataframe tbody tr th:only-of-type {\n",
              "        vertical-align: middle;\n",
              "    }\n",
              "\n",
              "    .dataframe tbody tr th {\n",
              "        vertical-align: top;\n",
              "    }\n",
              "\n",
              "    .dataframe thead th {\n",
              "        text-align: right;\n",
              "    }\n",
              "</style>\n",
              "<table border=\"1\" class=\"dataframe\">\n",
              "  <thead>\n",
              "    <tr style=\"text-align: right;\">\n",
              "      <th></th>\n",
              "      <th>Books</th>\n",
              "    </tr>\n",
              "  </thead>\n",
              "  <tbody>\n",
              "    <tr>\n",
              "      <th>0</th>\n",
              "      <td>0800720024</td>\n",
              "    </tr>\n",
              "    <tr>\n",
              "      <th>1</th>\n",
              "      <td>076278038X</td>\n",
              "    </tr>\n",
              "    <tr>\n",
              "      <th>2</th>\n",
              "      <td>0062023144</td>\n",
              "    </tr>\n",
              "    <tr>\n",
              "      <th>3</th>\n",
              "      <td>1451661215</td>\n",
              "    </tr>\n",
              "    <tr>\n",
              "      <th>4</th>\n",
              "      <td>0345803493</td>\n",
              "    </tr>\n",
              "  </tbody>\n",
              "</table>\n",
              "</div>"
            ],
            "text/plain": [
              "        Books\n",
              "0  0800720024\n",
              "1  076278038X\n",
              "2  0062023144\n",
              "3  1451661215\n",
              "4  0345803493"
            ]
          },
          "metadata": {
            "tags": []
          },
          "execution_count": 160
        }
      ]
    },
    {
      "cell_type": "markdown",
      "metadata": {
        "id": "YZEzBZ8w4Dkp"
      },
      "source": [
        "Let's predict which books user A00006923FEAFJLE7GHEL would love to read:"
      ]
    },
    {
      "cell_type": "code",
      "metadata": {
        "id": "MFWHzUKfdAO8",
        "colab": {
          "base_uri": "https://localhost:8080/",
          "height": 238
        },
        "outputId": "3e2908f5-0317-454b-d651-8b7e35b6b9df"
      },
      "source": [
        "user_A00006923FEAFJLE7GHEL = df_title.copy()\n",
        "user_A00006923FEAFJLE7GHEL = user_A00006923FEAFJLE7GHEL.reset_index()\n",
        "user_A00006923FEAFJLE7GHEL = user_A00006923FEAFJLE7GHEL[~user_A00006923FEAFJLE7GHEL['Books'].isin(drop_book_list)]\n",
        "\n",
        "svd.train(trainset)\n",
        "\n",
        "user_A00006923FEAFJLE7GHEL['Estimate_Score'] = user_A00006923FEAFJLE7GHEL['Books'].apply(lambda x: svd.predict(\"A00006923FEAFJLE7GHEL\", x).est)\n",
        "\n",
        "user_A00006923FEAFJLE7GHEL = user_A00006923FEAFJLE7GHEL.sort_values('Estimate_Score', ascending=False)\n",
        "print(user_A00006923FEAFJLE7GHEL.head(10))"
      ],
      "execution_count": null,
      "outputs": [
        {
          "output_type": "stream",
          "text": [
            "/usr/local/lib/python3.6/dist-packages/surprise/prediction_algorithms/algo_base.py:51: UserWarning: train() is deprecated. Use fit() instead\n",
            "  warnings.warn('train() is deprecated. Use fit() instead', UserWarning)\n"
          ],
          "name": "stderr"
        },
        {
          "output_type": "stream",
          "text": [
            "       index       Books  Estimate_Score\n",
            "4437    4437  1410440478        5.000000\n",
            "226      226  0307730697        5.000000\n",
            "4444    4444  0307743659        5.000000\n",
            "827      827  0615680046        4.996404\n",
            "4944    4944  1442366680        4.993126\n",
            "9535    9535  0385302320        4.989260\n",
            "228      228  0671027034        4.988436\n",
            "12424  12424  0375725601        4.986919\n",
            "10223  10223  1565129164        4.985027\n",
            "1097    1097  0439136350        4.978488\n"
          ],
          "name": "stdout"
        }
      ]
    },
    {
      "cell_type": "markdown",
      "metadata": {
        "id": "hLsoykhhaEZv"
      },
      "source": [
        "# Conclusion"
      ]
    },
    {
      "cell_type": "markdown",
      "metadata": {
        "id": "x-_T8vEbFtp_"
      },
      "source": [
        "\n",
        "Based on Amazon book reviews data, Surprise library is utilized here to implement SVD and such recommendation system could estimate book ratings for a specific user and recommend 10 books a user would love to read which have the highest estimated rating.\n",
        "\n",
        "However, one of the limitations of this project comes from the sampled Amazon book review data. Because the original dataset is too big, I just sampled 200K records from it. As a result, there are a large number of books which do not have many reviews. (Remember although I have removed books with too less reviews using 0.8 quantile, the book minimum times of review are still 1.) The data quality would influence the accuracy and efficiency of the recommendation system to some degree.  If we could find a dataset within which each book has many reviews and each user rates many books, the model could be expected to be better. In addition, the dataset only has book id but does not have the corresponding book names, which limits the insights we could get from the recommendation results.\n",
        "\n"
      ]
    }
  ]
}